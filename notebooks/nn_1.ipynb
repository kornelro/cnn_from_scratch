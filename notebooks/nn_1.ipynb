{
 "metadata": {
  "language_info": {
   "codemirror_mode": {
    "name": "ipython",
    "version": 3
   },
   "file_extension": ".py",
   "mimetype": "text/x-python",
   "name": "python",
   "nbconvert_exporter": "python",
   "pygments_lexer": "ipython3",
   "version": "3.7.7-final"
  },
  "orig_nbformat": 2,
  "kernelspec": {
   "name": "python37764bitvenvvirtualenvb32b72a0e6a246fa8d455e3ab61f7309",
   "display_name": "Python 3.7.7 64-bit ('venv': virtualenv)"
  }
 },
 "nbformat": 4,
 "nbformat_minor": 2,
 "cells": [
  {
   "cell_type": "code",
   "execution_count": 1,
   "metadata": {},
   "outputs": [],
   "source": [
    "import sys; sys.path.append('../')"
   ]
  },
  {
   "cell_type": "code",
   "execution_count": 2,
   "metadata": {},
   "outputs": [],
   "source": [
    "from nn.trainer import Trainer\n",
    "from nn.net import Net\n",
    "from nn.layers.fully_connected import  FullyConnected\n",
    "from nn.layers.batch_normalization import BatchNormalization\n",
    "from nn.layers.sigmoid import Sigmoid"
   ]
  },
  {
   "cell_type": "code",
   "execution_count": 3,
   "metadata": {},
   "outputs": [],
   "source": [
    "import numpy as np\n",
    "import pandas as pd\n",
    "from tqdm import tqdm\n",
    "import keras\n",
    "import matplotlib.pyplot as plt\n",
    "from sklearn.metrics import accuracy_score\n",
    "from sklearn.metrics import recall_score"
   ]
  },
  {
   "cell_type": "markdown",
   "metadata": {},
   "source": [
    "Data preparation"
   ]
  },
  {
   "cell_type": "code",
   "execution_count": 4,
   "metadata": {},
   "outputs": [],
   "source": [
    "(X_train, y_train), (X_test, y_test) = keras.datasets.mnist.load_data()"
   ]
  },
  {
   "cell_type": "code",
   "execution_count": 5,
   "metadata": {},
   "outputs": [
    {
     "output_type": "execute_result",
     "data": {
      "text/plain": "(60000, 28, 28)"
     },
     "metadata": {},
     "execution_count": 5
    }
   ],
   "source": [
    "X_train.shape"
   ]
  },
  {
   "cell_type": "code",
   "execution_count": 6,
   "metadata": {},
   "outputs": [
    {
     "output_type": "execute_result",
     "data": {
      "text/plain": "(10000, 28, 28)"
     },
     "metadata": {},
     "execution_count": 6
    }
   ],
   "source": [
    "X_test.shape"
   ]
  },
  {
   "cell_type": "code",
   "execution_count": 7,
   "metadata": {},
   "outputs": [
    {
     "output_type": "execute_result",
     "data": {
      "text/plain": "(60000,)"
     },
     "metadata": {},
     "execution_count": 7
    }
   ],
   "source": [
    "y_train.shape"
   ]
  },
  {
   "cell_type": "code",
   "execution_count": 8,
   "metadata": {},
   "outputs": [
    {
     "output_type": "execute_result",
     "data": {
      "text/plain": "(10000,)"
     },
     "metadata": {},
     "execution_count": 8
    }
   ],
   "source": [
    "y_test.shape"
   ]
  },
  {
   "cell_type": "code",
   "execution_count": 9,
   "metadata": {},
   "outputs": [
    {
     "output_type": "display_data",
     "data": {
      "text/plain": "<Figure size 432x288 with 3 Axes>",
      "image/svg+xml": "<?xml version=\"1.0\" encoding=\"utf-8\" standalone=\"no\"?>\r\n<!DOCTYPE svg PUBLIC \"-//W3C//DTD SVG 1.1//EN\"\r\n  \"http://www.w3.org/Graphics/SVG/1.1/DTD/svg11.dtd\">\r\n<!-- Created with matplotlib (https://matplotlib.org/) -->\r\n<svg height=\"248.518125pt\" version=\"1.1\" viewBox=\"0 0 823.329706 248.518125\" width=\"823.329706pt\" xmlns=\"http://www.w3.org/2000/svg\" xmlns:xlink=\"http://www.w3.org/1999/xlink\">\r\n <metadata>\r\n  <rdf:RDF xmlns:cc=\"http://creativecommons.org/ns#\" xmlns:dc=\"http://purl.org/dc/elements/1.1/\" xmlns:rdf=\"http://www.w3.org/1999/02/22-rdf-syntax-ns#\">\r\n   <cc:Work>\r\n    <dc:type rdf:resource=\"http://purl.org/dc/dcmitype/StillImage\"/>\r\n    <dc:date>2020-09-02T13:56:41.917997</dc:date>\r\n    <dc:format>image/svg+xml</dc:format>\r\n    <dc:creator>\r\n     <cc:Agent>\r\n      <dc:title>Matplotlib v3.3.0, https://matplotlib.org/</dc:title>\r\n     </cc:Agent>\r\n    </dc:creator>\r\n   </cc:Work>\r\n  </rdf:RDF>\r\n </metadata>\r\n <defs>\r\n  <style type=\"text/css\">*{stroke-linecap:butt;stroke-linejoin:round;}</style>\r\n </defs>\r\n <g id=\"figure_1\">\r\n  <g id=\"patch_1\">\r\n   <path d=\"M 0 248.518125 \r\nL 823.329706 248.518125 \r\nL 823.329706 0 \r\nL 0 0 \r\nz\r\n\" style=\"fill:none;\"/>\r\n  </g>\r\n  <g id=\"axes_1\">\r\n   <g id=\"patch_2\">\r\n    <path d=\"M 26.925 224.64 \r\nL 244.365 224.64 \r\nL 244.365 7.2 \r\nL 26.925 7.2 \r\nz\r\n\" style=\"fill:#ffffff;\"/>\r\n   </g>\r\n   <g clip-path=\"url(#p1e71705167)\">\r\n    <image height=\"218\" id=\"image48915087bb\" transform=\"scale(1 -1)translate(0 -218)\" width=\"218\" x=\"26.925\" xlink:href=\"data:image/png;base64,\r\niVBORw0KGgoAAAANSUhEUgAAANoAAADaCAYAAADAHVzbAAAGZklEQVR4nO3df6jddR3H8R3vUa+3bq41zUk4b1ttprkLjtpyrCAz/xBhZKz9UbCoKLFRTfxDBCuKHP0AkVoghAYDbYYg9OM/G0JqG0bh+jHaWjRdV7bLbjaHc+ce/5II/L7nzj33dbr3Ph7/vvye8/1jTz9wv5xzWje0bu0uAmbVeYO+AVgIhAYBQoMAoUGA0CBAaBAgNAgQGgQIDQKEBgFCgwChQYDQIEBoECA0CBAaBAgNAoQGAUKDAKFBgNAgQGgQ0B7kmx/Y+YF6v2XnrL33D0+sKPf79txY7q1Oq9xXf+vvjVtn4sXyWuYfJxoECA0ChAYBQoMAoUGA0CBAaBDQGuTPNp3++Np6/+pkud+18peN240XnezpnvplonOqcdv4+Pby2tV3/6XcOyemeronBseJBgFCgwChQYDQIEBoECA0CBAaBAz0OdpMtZdd1rhN/uQt5bVfGttT7ltGJ3q6p364/fkN5f7szvFyX/roc+U+/dJL53pLzJATDQKEBgFCgwChQYDQIEBoECA0CJjTz9Fmon3lFeU+dd2yct/8zV+X+xcXHzrne+qX7UfXlftTP2r+HOCSB39Xv/h0p5dbWvCcaBAgNAgQGgQIDQKEBgFCgwChQcCCfY42U+2x5eV+cOvljdvXNz9cXvuJtx7r6Z764a6J+rs299xXP6N7+0NP9fN25g0nGgQIDQKEBgFCgwChQYDQIMCf9wegtfaacj+w7YJyf+D6h8p94/Dpc76nN+uV7qvl/qm/bSr3Vz9ytJ+3M2c40SBAaBAgNAgQGgQIDQKEBgFCgwDP0eag6Q3j5X7wk8Plfs344cbt5yt/0cMd/deO41eX+5Pjxc9pzeOvsnOiQYDQIEBoECA0CBAaBAgNAoQGAZ6j8T9+dqT+uriRVv1ZuZe79Wfhbv7yV5pf+7FnymvnMicaBAgNAoQGAUKDAKFBgNAgQGgQ0B70DdB/Q++8tNxf2LyycRtu7Z3Re3/+8M3lPp+flVWcaBAgNAgQGgQIDQKEBgFCgwB/3p+DutePl/vIvUfKfe+77y/W+v+9q5/4XLmv+sZUuS9adPws+/zkRIMAoUGA0CBAaBAgNAgQGgQIDQI8R/s/NPnZ9eW+657vlftYu/7ZpsrVP7293Fc/cLTczxw63PN7z2dONAgQGgQIDQKEBgFCgwChQYDQIMBztAE4b81V5f7wPd8t9/2n66+T27RvU7l3f39x4zb27fpnm850/cpXL5xoECA0CBAaBAgNAoQGAUKDAKFBgOdos2RocfOzqiU76890XdG+qNw/fednyv1djzxd7uQ50SBAaBAgNAgQGgQIDQKEBgFCgwDP0WbJn3e8t3E7sPzH5bVb//HRch/dvbene2JwnGgQIDQIEBoECA0ChAYBQoMAf95vMLT0HeXeOT5Z7ue/7XTP771/1/vK/dLp3/b82gyGEw0ChAYBQoMAoUGA0CBAaBAgNAhYsM/RJreuL/d/33Sy3If+uKrc92+8/5zv6XW3fGFPue/dtbTcOyemyr27fk3jdnhbeemisS1/qP8D3pATDQKEBgFCgwChQYDQIEBoECA0CGjd0Lq1O+ibmA3tZZeV++Yn9pX7ltGJft5OX20/uq7cD/2nfs724IpHG7ep6fqfw23LN5Q7b8yJBgFCgwChQYDQIEBoECA0CBAaBMzbz6O9surycr9u+J9neYUL+nczffb9ZU/P8BWGG5eRVqe8cmLbh8q9fbL3x7Kjz58p9wuPnSr37r7nen7v2eZEgwChQYDQIEBoECA0CBAaBAgNAubt59HOZuiq95R798Lzy/2FDy8u91Prmr8XcsnF9XdGPrnmkXIfpF+9PFruOw7eVO6/ef/uxu3Imfo52b0THyv3P33n2nIfeeyZcp9NTjQIEBoECA0ChAYBQoMAoUHAgv3z/iC12vWnk4Yuqb8ubqb+eseVjVtnZLq8dvmKF8t95LZWuf/rB80fP3p2bf1Y41infizywd3by33l12b68aLeOdEgQGgQIDQIEBoECA0ChAYBQoMAz9EgwIkGAUKDAKFBgNAgQGgQIDQIEBoECA0ChAYBQoMAoUGA0CBAaBAgNAgQGgQIDQKEBgFCgwChQYDQIEBoECA0CBAaBAgNAoQGAUKDAKFBgNAgQGgQIDQIEBoECA0ChAYBQoMAoUGA0CBAaBAgNAh4DVFl7oFlI4jTAAAAAElFTkSuQmCC\" y=\"-6.64\"/>\r\n   </g>\r\n   <g id=\"matplotlib.axis_1\">\r\n    <g id=\"xtick_1\">\r\n     <g id=\"line2d_1\">\r\n      <defs>\r\n       <path d=\"M 0 0 \r\nL 0 3.5 \r\n\" id=\"md512a09df7\" style=\"stroke:#000000;stroke-width:0.8;\"/>\r\n      </defs>\r\n      <g>\r\n       <use style=\"stroke:#000000;stroke-width:0.8;\" x=\"30.807857\" xlink:href=\"#md512a09df7\" y=\"224.64\"/>\r\n      </g>\r\n     </g>\r\n     <g id=\"text_1\">\r\n      <!-- 0 -->\r\n      <g transform=\"translate(27.626607 239.238437)scale(0.1 -0.1)\">\r\n       <defs>\r\n        <path d=\"M 31.78125 66.40625 \r\nQ 24.171875 66.40625 20.328125 58.90625 \r\nQ 16.5 51.421875 16.5 36.375 \r\nQ 16.5 21.390625 20.328125 13.890625 \r\nQ 24.171875 6.390625 31.78125 6.390625 \r\nQ 39.453125 6.390625 43.28125 13.890625 \r\nQ 47.125 21.390625 47.125 36.375 \r\nQ 47.125 51.421875 43.28125 58.90625 \r\nQ 39.453125 66.40625 31.78125 66.40625 \r\nz\r\nM 31.78125 74.21875 \r\nQ 44.046875 74.21875 50.515625 64.515625 \r\nQ 56.984375 54.828125 56.984375 36.375 \r\nQ 56.984375 17.96875 50.515625 8.265625 \r\nQ 44.046875 -1.421875 31.78125 -1.421875 \r\nQ 19.53125 -1.421875 13.0625 8.265625 \r\nQ 6.59375 17.96875 6.59375 36.375 \r\nQ 6.59375 54.828125 13.0625 64.515625 \r\nQ 19.53125 74.21875 31.78125 74.21875 \r\nz\r\n\" id=\"DejaVuSans-48\"/>\r\n       </defs>\r\n       <use xlink:href=\"#DejaVuSans-48\"/>\r\n      </g>\r\n     </g>\r\n    </g>\r\n    <g id=\"xtick_2\">\r\n     <g id=\"line2d_2\">\r\n      <g>\r\n       <use style=\"stroke:#000000;stroke-width:0.8;\" x=\"69.636429\" xlink:href=\"#md512a09df7\" y=\"224.64\"/>\r\n      </g>\r\n     </g>\r\n     <g id=\"text_2\">\r\n      <!-- 5 -->\r\n      <g transform=\"translate(66.455179 239.238437)scale(0.1 -0.1)\">\r\n       <defs>\r\n        <path d=\"M 10.796875 72.90625 \r\nL 49.515625 72.90625 \r\nL 49.515625 64.59375 \r\nL 19.828125 64.59375 \r\nL 19.828125 46.734375 \r\nQ 21.96875 47.46875 24.109375 47.828125 \r\nQ 26.265625 48.1875 28.421875 48.1875 \r\nQ 40.625 48.1875 47.75 41.5 \r\nQ 54.890625 34.8125 54.890625 23.390625 \r\nQ 54.890625 11.625 47.5625 5.09375 \r\nQ 40.234375 -1.421875 26.90625 -1.421875 \r\nQ 22.3125 -1.421875 17.546875 -0.640625 \r\nQ 12.796875 0.140625 7.71875 1.703125 \r\nL 7.71875 11.625 \r\nQ 12.109375 9.234375 16.796875 8.0625 \r\nQ 21.484375 6.890625 26.703125 6.890625 \r\nQ 35.15625 6.890625 40.078125 11.328125 \r\nQ 45.015625 15.765625 45.015625 23.390625 \r\nQ 45.015625 31 40.078125 35.4375 \r\nQ 35.15625 39.890625 26.703125 39.890625 \r\nQ 22.75 39.890625 18.8125 39.015625 \r\nQ 14.890625 38.140625 10.796875 36.28125 \r\nz\r\n\" id=\"DejaVuSans-53\"/>\r\n       </defs>\r\n       <use xlink:href=\"#DejaVuSans-53\"/>\r\n      </g>\r\n     </g>\r\n    </g>\r\n    <g id=\"xtick_3\">\r\n     <g id=\"line2d_3\">\r\n      <g>\r\n       <use style=\"stroke:#000000;stroke-width:0.8;\" x=\"108.465\" xlink:href=\"#md512a09df7\" y=\"224.64\"/>\r\n      </g>\r\n     </g>\r\n     <g id=\"text_3\">\r\n      <!-- 10 -->\r\n      <g transform=\"translate(102.1025 239.238437)scale(0.1 -0.1)\">\r\n       <defs>\r\n        <path d=\"M 12.40625 8.296875 \r\nL 28.515625 8.296875 \r\nL 28.515625 63.921875 \r\nL 10.984375 60.40625 \r\nL 10.984375 69.390625 \r\nL 28.421875 72.90625 \r\nL 38.28125 72.90625 \r\nL 38.28125 8.296875 \r\nL 54.390625 8.296875 \r\nL 54.390625 0 \r\nL 12.40625 0 \r\nz\r\n\" id=\"DejaVuSans-49\"/>\r\n       </defs>\r\n       <use xlink:href=\"#DejaVuSans-49\"/>\r\n       <use x=\"63.623047\" xlink:href=\"#DejaVuSans-48\"/>\r\n      </g>\r\n     </g>\r\n    </g>\r\n    <g id=\"xtick_4\">\r\n     <g id=\"line2d_4\">\r\n      <g>\r\n       <use style=\"stroke:#000000;stroke-width:0.8;\" x=\"147.293571\" xlink:href=\"#md512a09df7\" y=\"224.64\"/>\r\n      </g>\r\n     </g>\r\n     <g id=\"text_4\">\r\n      <!-- 15 -->\r\n      <g transform=\"translate(140.931071 239.238437)scale(0.1 -0.1)\">\r\n       <use xlink:href=\"#DejaVuSans-49\"/>\r\n       <use x=\"63.623047\" xlink:href=\"#DejaVuSans-53\"/>\r\n      </g>\r\n     </g>\r\n    </g>\r\n    <g id=\"xtick_5\">\r\n     <g id=\"line2d_5\">\r\n      <g>\r\n       <use style=\"stroke:#000000;stroke-width:0.8;\" x=\"186.122143\" xlink:href=\"#md512a09df7\" y=\"224.64\"/>\r\n      </g>\r\n     </g>\r\n     <g id=\"text_5\">\r\n      <!-- 20 -->\r\n      <g transform=\"translate(179.759643 239.238437)scale(0.1 -0.1)\">\r\n       <defs>\r\n        <path d=\"M 19.1875 8.296875 \r\nL 53.609375 8.296875 \r\nL 53.609375 0 \r\nL 7.328125 0 \r\nL 7.328125 8.296875 \r\nQ 12.9375 14.109375 22.625 23.890625 \r\nQ 32.328125 33.6875 34.8125 36.53125 \r\nQ 39.546875 41.84375 41.421875 45.53125 \r\nQ 43.3125 49.21875 43.3125 52.78125 \r\nQ 43.3125 58.59375 39.234375 62.25 \r\nQ 35.15625 65.921875 28.609375 65.921875 \r\nQ 23.96875 65.921875 18.8125 64.3125 \r\nQ 13.671875 62.703125 7.8125 59.421875 \r\nL 7.8125 69.390625 \r\nQ 13.765625 71.78125 18.9375 73 \r\nQ 24.125 74.21875 28.421875 74.21875 \r\nQ 39.75 74.21875 46.484375 68.546875 \r\nQ 53.21875 62.890625 53.21875 53.421875 \r\nQ 53.21875 48.921875 51.53125 44.890625 \r\nQ 49.859375 40.875 45.40625 35.40625 \r\nQ 44.1875 33.984375 37.640625 27.21875 \r\nQ 31.109375 20.453125 19.1875 8.296875 \r\nz\r\n\" id=\"DejaVuSans-50\"/>\r\n       </defs>\r\n       <use xlink:href=\"#DejaVuSans-50\"/>\r\n       <use x=\"63.623047\" xlink:href=\"#DejaVuSans-48\"/>\r\n      </g>\r\n     </g>\r\n    </g>\r\n    <g id=\"xtick_6\">\r\n     <g id=\"line2d_6\">\r\n      <g>\r\n       <use style=\"stroke:#000000;stroke-width:0.8;\" x=\"224.950714\" xlink:href=\"#md512a09df7\" y=\"224.64\"/>\r\n      </g>\r\n     </g>\r\n     <g id=\"text_6\">\r\n      <!-- 25 -->\r\n      <g transform=\"translate(218.588214 239.238437)scale(0.1 -0.1)\">\r\n       <use xlink:href=\"#DejaVuSans-50\"/>\r\n       <use x=\"63.623047\" xlink:href=\"#DejaVuSans-53\"/>\r\n      </g>\r\n     </g>\r\n    </g>\r\n   </g>\r\n   <g id=\"matplotlib.axis_2\">\r\n    <g id=\"ytick_1\">\r\n     <g id=\"line2d_7\">\r\n      <defs>\r\n       <path d=\"M 0 0 \r\nL -3.5 0 \r\n\" id=\"medaf3fb515\" style=\"stroke:#000000;stroke-width:0.8;\"/>\r\n      </defs>\r\n      <g>\r\n       <use style=\"stroke:#000000;stroke-width:0.8;\" x=\"26.925\" xlink:href=\"#medaf3fb515\" y=\"11.082857\"/>\r\n      </g>\r\n     </g>\r\n     <g id=\"text_7\">\r\n      <!-- 0 -->\r\n      <g transform=\"translate(13.5625 14.882076)scale(0.1 -0.1)\">\r\n       <use xlink:href=\"#DejaVuSans-48\"/>\r\n      </g>\r\n     </g>\r\n    </g>\r\n    <g id=\"ytick_2\">\r\n     <g id=\"line2d_8\">\r\n      <g>\r\n       <use style=\"stroke:#000000;stroke-width:0.8;\" x=\"26.925\" xlink:href=\"#medaf3fb515\" y=\"49.911429\"/>\r\n      </g>\r\n     </g>\r\n     <g id=\"text_8\">\r\n      <!-- 5 -->\r\n      <g transform=\"translate(13.5625 53.710647)scale(0.1 -0.1)\">\r\n       <use xlink:href=\"#DejaVuSans-53\"/>\r\n      </g>\r\n     </g>\r\n    </g>\r\n    <g id=\"ytick_3\">\r\n     <g id=\"line2d_9\">\r\n      <g>\r\n       <use style=\"stroke:#000000;stroke-width:0.8;\" x=\"26.925\" xlink:href=\"#medaf3fb515\" y=\"88.74\"/>\r\n      </g>\r\n     </g>\r\n     <g id=\"text_9\">\r\n      <!-- 10 -->\r\n      <g transform=\"translate(7.2 92.539219)scale(0.1 -0.1)\">\r\n       <use xlink:href=\"#DejaVuSans-49\"/>\r\n       <use x=\"63.623047\" xlink:href=\"#DejaVuSans-48\"/>\r\n      </g>\r\n     </g>\r\n    </g>\r\n    <g id=\"ytick_4\">\r\n     <g id=\"line2d_10\">\r\n      <g>\r\n       <use style=\"stroke:#000000;stroke-width:0.8;\" x=\"26.925\" xlink:href=\"#medaf3fb515\" y=\"127.568571\"/>\r\n      </g>\r\n     </g>\r\n     <g id=\"text_10\">\r\n      <!-- 15 -->\r\n      <g transform=\"translate(7.2 131.36779)scale(0.1 -0.1)\">\r\n       <use xlink:href=\"#DejaVuSans-49\"/>\r\n       <use x=\"63.623047\" xlink:href=\"#DejaVuSans-53\"/>\r\n      </g>\r\n     </g>\r\n    </g>\r\n    <g id=\"ytick_5\">\r\n     <g id=\"line2d_11\">\r\n      <g>\r\n       <use style=\"stroke:#000000;stroke-width:0.8;\" x=\"26.925\" xlink:href=\"#medaf3fb515\" y=\"166.397143\"/>\r\n      </g>\r\n     </g>\r\n     <g id=\"text_11\">\r\n      <!-- 20 -->\r\n      <g transform=\"translate(7.2 170.196362)scale(0.1 -0.1)\">\r\n       <use xlink:href=\"#DejaVuSans-50\"/>\r\n       <use x=\"63.623047\" xlink:href=\"#DejaVuSans-48\"/>\r\n      </g>\r\n     </g>\r\n    </g>\r\n    <g id=\"ytick_6\">\r\n     <g id=\"line2d_12\">\r\n      <g>\r\n       <use style=\"stroke:#000000;stroke-width:0.8;\" x=\"26.925\" xlink:href=\"#medaf3fb515\" y=\"205.225714\"/>\r\n      </g>\r\n     </g>\r\n     <g id=\"text_12\">\r\n      <!-- 25 -->\r\n      <g transform=\"translate(7.2 209.024933)scale(0.1 -0.1)\">\r\n       <use xlink:href=\"#DejaVuSans-50\"/>\r\n       <use x=\"63.623047\" xlink:href=\"#DejaVuSans-53\"/>\r\n      </g>\r\n     </g>\r\n    </g>\r\n   </g>\r\n   <g id=\"patch_3\">\r\n    <path d=\"M 26.925 224.64 \r\nL 26.925 7.2 \r\n\" style=\"fill:none;stroke:#000000;stroke-linecap:square;stroke-linejoin:miter;stroke-width:0.8;\"/>\r\n   </g>\r\n   <g id=\"patch_4\">\r\n    <path d=\"M 244.365 224.64 \r\nL 244.365 7.2 \r\n\" style=\"fill:none;stroke:#000000;stroke-linecap:square;stroke-linejoin:miter;stroke-width:0.8;\"/>\r\n   </g>\r\n   <g id=\"patch_5\">\r\n    <path d=\"M 26.925 224.64 \r\nL 244.365 224.64 \r\n\" style=\"fill:none;stroke:#000000;stroke-linecap:square;stroke-linejoin:miter;stroke-width:0.8;\"/>\r\n   </g>\r\n   <g id=\"patch_6\">\r\n    <path d=\"M 26.925 7.2 \r\nL 244.365 7.2 \r\n\" style=\"fill:none;stroke:#000000;stroke-linecap:square;stroke-linejoin:miter;stroke-width:0.8;\"/>\r\n   </g>\r\n  </g>\r\n  <g id=\"axes_2\">\r\n   <g id=\"patch_7\">\r\n    <path d=\"M 312.807353 224.64 \r\nL 530.247353 224.64 \r\nL 530.247353 7.2 \r\nL 312.807353 7.2 \r\nz\r\n\" style=\"fill:#ffffff;\"/>\r\n   </g>\r\n   <g clip-path=\"url(#p52095174b9)\">\r\n    <image height=\"218\" id=\"image31d60c81b5\" transform=\"scale(1 -1)translate(0 -218)\" width=\"218\" x=\"312.807353\" xlink:href=\"data:image/png;base64,\r\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\" y=\"-6.64\"/>\r\n   </g>\r\n   <g id=\"matplotlib.axis_3\">\r\n    <g id=\"xtick_7\">\r\n     <g id=\"line2d_13\">\r\n      <g>\r\n       <use style=\"stroke:#000000;stroke-width:0.8;\" x=\"316.69021\" xlink:href=\"#md512a09df7\" y=\"224.64\"/>\r\n      </g>\r\n     </g>\r\n     <g id=\"text_13\">\r\n      <!-- 0 -->\r\n      <g transform=\"translate(313.50896 239.238437)scale(0.1 -0.1)\">\r\n       <use xlink:href=\"#DejaVuSans-48\"/>\r\n      </g>\r\n     </g>\r\n    </g>\r\n    <g id=\"xtick_8\">\r\n     <g id=\"line2d_14\">\r\n      <g>\r\n       <use style=\"stroke:#000000;stroke-width:0.8;\" x=\"355.518782\" xlink:href=\"#md512a09df7\" y=\"224.64\"/>\r\n      </g>\r\n     </g>\r\n     <g id=\"text_14\">\r\n      <!-- 5 -->\r\n      <g transform=\"translate(352.337532 239.238437)scale(0.1 -0.1)\">\r\n       <use xlink:href=\"#DejaVuSans-53\"/>\r\n      </g>\r\n     </g>\r\n    </g>\r\n    <g id=\"xtick_9\">\r\n     <g id=\"line2d_15\">\r\n      <g>\r\n       <use style=\"stroke:#000000;stroke-width:0.8;\" x=\"394.347353\" xlink:href=\"#md512a09df7\" y=\"224.64\"/>\r\n      </g>\r\n     </g>\r\n     <g id=\"text_15\">\r\n      <!-- 10 -->\r\n      <g transform=\"translate(387.984853 239.238437)scale(0.1 -0.1)\">\r\n       <use xlink:href=\"#DejaVuSans-49\"/>\r\n       <use x=\"63.623047\" xlink:href=\"#DejaVuSans-48\"/>\r\n      </g>\r\n     </g>\r\n    </g>\r\n    <g id=\"xtick_10\">\r\n     <g id=\"line2d_16\">\r\n      <g>\r\n       <use style=\"stroke:#000000;stroke-width:0.8;\" x=\"433.175924\" xlink:href=\"#md512a09df7\" y=\"224.64\"/>\r\n      </g>\r\n     </g>\r\n     <g id=\"text_16\">\r\n      <!-- 15 -->\r\n      <g transform=\"translate(426.813424 239.238437)scale(0.1 -0.1)\">\r\n       <use xlink:href=\"#DejaVuSans-49\"/>\r\n       <use x=\"63.623047\" xlink:href=\"#DejaVuSans-53\"/>\r\n      </g>\r\n     </g>\r\n    </g>\r\n    <g id=\"xtick_11\">\r\n     <g id=\"line2d_17\">\r\n      <g>\r\n       <use style=\"stroke:#000000;stroke-width:0.8;\" x=\"472.004496\" xlink:href=\"#md512a09df7\" y=\"224.64\"/>\r\n      </g>\r\n     </g>\r\n     <g id=\"text_17\">\r\n      <!-- 20 -->\r\n      <g transform=\"translate(465.641996 239.238437)scale(0.1 -0.1)\">\r\n       <use xlink:href=\"#DejaVuSans-50\"/>\r\n       <use x=\"63.623047\" xlink:href=\"#DejaVuSans-48\"/>\r\n      </g>\r\n     </g>\r\n    </g>\r\n    <g id=\"xtick_12\">\r\n     <g id=\"line2d_18\">\r\n      <g>\r\n       <use style=\"stroke:#000000;stroke-width:0.8;\" x=\"510.833067\" xlink:href=\"#md512a09df7\" y=\"224.64\"/>\r\n      </g>\r\n     </g>\r\n     <g id=\"text_18\">\r\n      <!-- 25 -->\r\n      <g transform=\"translate(504.470567 239.238437)scale(0.1 -0.1)\">\r\n       <use xlink:href=\"#DejaVuSans-50\"/>\r\n       <use x=\"63.623047\" xlink:href=\"#DejaVuSans-53\"/>\r\n      </g>\r\n     </g>\r\n    </g>\r\n   </g>\r\n   <g id=\"matplotlib.axis_4\">\r\n    <g id=\"ytick_7\">\r\n     <g id=\"line2d_19\">\r\n      <g>\r\n       <use style=\"stroke:#000000;stroke-width:0.8;\" x=\"312.807353\" xlink:href=\"#medaf3fb515\" y=\"11.082857\"/>\r\n      </g>\r\n     </g>\r\n     <g id=\"text_19\">\r\n      <!-- 0 -->\r\n      <g transform=\"translate(299.444853 14.882076)scale(0.1 -0.1)\">\r\n       <use xlink:href=\"#DejaVuSans-48\"/>\r\n      </g>\r\n     </g>\r\n    </g>\r\n    <g id=\"ytick_8\">\r\n     <g id=\"line2d_20\">\r\n      <g>\r\n       <use style=\"stroke:#000000;stroke-width:0.8;\" x=\"312.807353\" xlink:href=\"#medaf3fb515\" y=\"49.911429\"/>\r\n      </g>\r\n     </g>\r\n     <g id=\"text_20\">\r\n      <!-- 5 -->\r\n      <g transform=\"translate(299.444853 53.710647)scale(0.1 -0.1)\">\r\n       <use xlink:href=\"#DejaVuSans-53\"/>\r\n      </g>\r\n     </g>\r\n    </g>\r\n    <g id=\"ytick_9\">\r\n     <g id=\"line2d_21\">\r\n      <g>\r\n       <use style=\"stroke:#000000;stroke-width:0.8;\" x=\"312.807353\" xlink:href=\"#medaf3fb515\" y=\"88.74\"/>\r\n      </g>\r\n     </g>\r\n     <g id=\"text_21\">\r\n      <!-- 10 -->\r\n      <g transform=\"translate(293.082353 92.539219)scale(0.1 -0.1)\">\r\n       <use xlink:href=\"#DejaVuSans-49\"/>\r\n       <use x=\"63.623047\" xlink:href=\"#DejaVuSans-48\"/>\r\n      </g>\r\n     </g>\r\n    </g>\r\n    <g id=\"ytick_10\">\r\n     <g id=\"line2d_22\">\r\n      <g>\r\n       <use style=\"stroke:#000000;stroke-width:0.8;\" x=\"312.807353\" xlink:href=\"#medaf3fb515\" y=\"127.568571\"/>\r\n      </g>\r\n     </g>\r\n     <g id=\"text_22\">\r\n      <!-- 15 -->\r\n      <g transform=\"translate(293.082353 131.36779)scale(0.1 -0.1)\">\r\n       <use xlink:href=\"#DejaVuSans-49\"/>\r\n       <use x=\"63.623047\" xlink:href=\"#DejaVuSans-53\"/>\r\n      </g>\r\n     </g>\r\n    </g>\r\n    <g id=\"ytick_11\">\r\n     <g id=\"line2d_23\">\r\n      <g>\r\n       <use style=\"stroke:#000000;stroke-width:0.8;\" x=\"312.807353\" xlink:href=\"#medaf3fb515\" y=\"166.397143\"/>\r\n      </g>\r\n     </g>\r\n     <g id=\"text_23\">\r\n      <!-- 20 -->\r\n      <g transform=\"translate(293.082353 170.196362)scale(0.1 -0.1)\">\r\n       <use xlink:href=\"#DejaVuSans-50\"/>\r\n       <use x=\"63.623047\" xlink:href=\"#DejaVuSans-48\"/>\r\n      </g>\r\n     </g>\r\n    </g>\r\n    <g id=\"ytick_12\">\r\n     <g id=\"line2d_24\">\r\n      <g>\r\n       <use style=\"stroke:#000000;stroke-width:0.8;\" x=\"312.807353\" xlink:href=\"#medaf3fb515\" y=\"205.225714\"/>\r\n      </g>\r\n     </g>\r\n     <g id=\"text_24\">\r\n      <!-- 25 -->\r\n      <g transform=\"translate(293.082353 209.024933)scale(0.1 -0.1)\">\r\n       <use xlink:href=\"#DejaVuSans-50\"/>\r\n       <use x=\"63.623047\" xlink:href=\"#DejaVuSans-53\"/>\r\n      </g>\r\n     </g>\r\n    </g>\r\n   </g>\r\n   <g id=\"patch_8\">\r\n    <path d=\"M 312.807353 224.64 \r\nL 312.807353 7.2 \r\n\" style=\"fill:none;stroke:#000000;stroke-linecap:square;stroke-linejoin:miter;stroke-width:0.8;\"/>\r\n   </g>\r\n   <g id=\"patch_9\">\r\n    <path d=\"M 530.247353 224.64 \r\nL 530.247353 7.2 \r\n\" style=\"fill:none;stroke:#000000;stroke-linecap:square;stroke-linejoin:miter;stroke-width:0.8;\"/>\r\n   </g>\r\n   <g id=\"patch_10\">\r\n    <path d=\"M 312.807353 224.64 \r\nL 530.247353 224.64 \r\n\" style=\"fill:none;stroke:#000000;stroke-linecap:square;stroke-linejoin:miter;stroke-width:0.8;\"/>\r\n   </g>\r\n   <g id=\"patch_11\">\r\n    <path d=\"M 312.807353 7.2 \r\nL 530.247353 7.2 \r\n\" style=\"fill:none;stroke:#000000;stroke-linecap:square;stroke-linejoin:miter;stroke-width:0.8;\"/>\r\n   </g>\r\n  </g>\r\n  <g id=\"axes_3\">\r\n   <g id=\"patch_12\">\r\n    <path d=\"M 598.689706 224.64 \r\nL 816.129706 224.64 \r\nL 816.129706 7.2 \r\nL 598.689706 7.2 \r\nz\r\n\" style=\"fill:#ffffff;\"/>\r\n   </g>\r\n   <g clip-path=\"url(#pda6511fb61)\">\r\n    <image height=\"218\" id=\"imagebf7d492ccc\" transform=\"scale(1 -1)translate(0 -218)\" width=\"218\" x=\"598.689706\" xlink:href=\"data:image/png;base64,\r\niVBORw0KGgoAAAANSUhEUgAAANoAAADaCAYAAADAHVzbAAAFmklEQVR4nO3dS2hcZRjH4ZlE0yai1N7w0uKlIBG8VDCIVVEhrotYXXQhWEVRN4qCK3Gh6NZFN7oUXVkhXkARFWsV0ahVpHihar1iWy0q2IhtMq6FnrcmnfnPpD7P9s2Z+Qj85oP5OHPak+1NnRbQU0P9XgD8HwgNAoQGAUKDAKFBgNAgQGgQIDQIEBoECA0ChAYBQoMAoUGA0CBAaBAgNAgQGgQIDQKEBgFCgwChQYDQIOCEfi+AwfLzvRvK+Uf3by3n49u3lPNzN3883yUdF+xoECA0CBAaBAgNAoQGAUKDAKFBgHM0/mXJ5P5yPtz22bwQ/msQIDQIEBoECA0ChAYBQoMAoUGAczTmZbYz1+8lLEp2NAgQGgQIDQKEBgFCgwChQYDQIMA5Gl01Nj3W7yUMJDsaBAgNAoQGAUKDAKFBgNAgQGgQ4ByNeTnq7zq6Xe2I7GgQIDQIEBoECA0ChAYBQoMAX+8zL0f7ublTvzwUWsniYkeDAKFBgNAgQGgQIDQIEBoECA0ChAYBQoMAoUGA0CBAaBAgNAgQGgQIDQLcj0ZXfbuxXc7Pezm0kAFjR4MAoUGA0CBAaBAgNAgQGgQIDQL6eo72zWOXl/O1Ez+GVjJ/+19eU85X7Gr+fcORV6a7vZyuOfjWqvoP1tfjR659rpw/1Vo7vwUdJ+xoECA0CBAaBAgNAoQGAUKDgJ5+vb/76UvK+efXbi3nnx2qHwH0wh/r57uk/+yBFbvK+dD59e0gM52/G2c/zc6W127df005f/GTi8v5sp0j5fz0V/c2ztY8/mF57fQdnXK+8aT6SMbX+0DPCA0ChAYBQoMAoUGA0CBAaBDQ03O0JUvrc7ChVn0Wdcuj95bzlU++O+81/Vfbr7qtnHeG67V/P7mkcfb3GUf5v4zU52yvTT5ezk+8rhy3fr6veW0Pfn19ee2q4Zn6vdvNr91qtVrtiQsbZ53pT8trFzM7GgQIDQKEBgFCgwChQYDQIEBoEDDQj20aPTDXt/ce2rHzmK4/+83urONI7mpdWc6HV64o53tvOK9xtvymH8prlw/Vn80ntIbr977s5MbZ6sH9Fb5jZkeDAKFBgNAgQGgQIDQIEBoECA0CBvocbd+l9efAOdtCC1lkZn/5tZyvfKK4j++J+rWvnrq1nO+ceKac33n3VONs6tkLymtn9+4r54PMjgYBQoMAoUGA0CBAaBAgNAgQGgT09Bzt8O7me49arVardXk9Xjr+W9fWQnesvefPcv7OG/Vn962nNN/vNrVsQ/3mztGAitAgQGgQIDQIEBoECA0Cevr1/lkv1Y/42bf5YC/fnh44vOe7cr7twEQ5v+L09xpnM+ecWl478kU5Hmh2NAgQGgQIDQKEBgFCgwChQYDQIKCn52hDb39cznf8dWYv354+2PNn/cioyveT9SOf1r2y4JfuOzsaBAgNAoQGAUKDAKFBgNAgQGgQ0NfHNh3qDPRTo1iAw7eN1X/wZvNodN0fXV3LILGjQYDQIEBoECA0CBAaBAgNAoQGAX09yHropRvL+di630MroVtmv/q2nI9v39I4u/2iHeW1r0/Uj3XqTH9azvvJjgYBQoMAoUGA0CBAaBAgNAgQGgT09RztjLfmyvnMrmWZhdA9c7PluP3daOPs9dPG69fudBayooFgR4MAoUGA0CBAaBAgNAgQGgT09ev90effr+ehdZCz+oPmI50Hb3qxvPbh1s3dXk6MHQ0ChAYBQoMAoUGA0CBAaBAgNAhoT7Y3Ld57D2CRsKNBgNAgQGgQIDQIEBoECA0ChAYBQoMAoUGA0CBAaBAgNAgQGgQIDQKEBgFCgwChQYDQIEBoECA0CBAaBAgNAoQGAUKDAKFBgNAgQGgQIDQIEBoECA0ChAYBQoMAoUGA0CBAaBAgNAgQGgQIDQL+ASvIqoSDwNSJAAAAAElFTkSuQmCC\" y=\"-6.64\"/>\r\n   </g>\r\n   <g id=\"matplotlib.axis_5\">\r\n    <g id=\"xtick_13\">\r\n     <g id=\"line2d_25\">\r\n      <g>\r\n       <use style=\"stroke:#000000;stroke-width:0.8;\" x=\"602.572563\" xlink:href=\"#md512a09df7\" y=\"224.64\"/>\r\n      </g>\r\n     </g>\r\n     <g id=\"text_25\">\r\n      <!-- 0 -->\r\n      <g transform=\"translate(599.391313 239.238437)scale(0.1 -0.1)\">\r\n       <use xlink:href=\"#DejaVuSans-48\"/>\r\n      </g>\r\n     </g>\r\n    </g>\r\n    <g id=\"xtick_14\">\r\n     <g id=\"line2d_26\">\r\n      <g>\r\n       <use style=\"stroke:#000000;stroke-width:0.8;\" x=\"641.401134\" xlink:href=\"#md512a09df7\" y=\"224.64\"/>\r\n      </g>\r\n     </g>\r\n     <g id=\"text_26\">\r\n      <!-- 5 -->\r\n      <g transform=\"translate(638.219884 239.238437)scale(0.1 -0.1)\">\r\n       <use xlink:href=\"#DejaVuSans-53\"/>\r\n      </g>\r\n     </g>\r\n    </g>\r\n    <g id=\"xtick_15\">\r\n     <g id=\"line2d_27\">\r\n      <g>\r\n       <use style=\"stroke:#000000;stroke-width:0.8;\" x=\"680.229706\" xlink:href=\"#md512a09df7\" y=\"224.64\"/>\r\n      </g>\r\n     </g>\r\n     <g id=\"text_27\">\r\n      <!-- 10 -->\r\n      <g transform=\"translate(673.867206 239.238437)scale(0.1 -0.1)\">\r\n       <use xlink:href=\"#DejaVuSans-49\"/>\r\n       <use x=\"63.623047\" xlink:href=\"#DejaVuSans-48\"/>\r\n      </g>\r\n     </g>\r\n    </g>\r\n    <g id=\"xtick_16\">\r\n     <g id=\"line2d_28\">\r\n      <g>\r\n       <use style=\"stroke:#000000;stroke-width:0.8;\" x=\"719.058277\" xlink:href=\"#md512a09df7\" y=\"224.64\"/>\r\n      </g>\r\n     </g>\r\n     <g id=\"text_28\">\r\n      <!-- 15 -->\r\n      <g transform=\"translate(712.695777 239.238437)scale(0.1 -0.1)\">\r\n       <use xlink:href=\"#DejaVuSans-49\"/>\r\n       <use x=\"63.623047\" xlink:href=\"#DejaVuSans-53\"/>\r\n      </g>\r\n     </g>\r\n    </g>\r\n    <g id=\"xtick_17\">\r\n     <g id=\"line2d_29\">\r\n      <g>\r\n       <use style=\"stroke:#000000;stroke-width:0.8;\" x=\"757.886849\" xlink:href=\"#md512a09df7\" y=\"224.64\"/>\r\n      </g>\r\n     </g>\r\n     <g id=\"text_29\">\r\n      <!-- 20 -->\r\n      <g transform=\"translate(751.524349 239.238437)scale(0.1 -0.1)\">\r\n       <use xlink:href=\"#DejaVuSans-50\"/>\r\n       <use x=\"63.623047\" xlink:href=\"#DejaVuSans-48\"/>\r\n      </g>\r\n     </g>\r\n    </g>\r\n    <g id=\"xtick_18\">\r\n     <g id=\"line2d_30\">\r\n      <g>\r\n       <use style=\"stroke:#000000;stroke-width:0.8;\" x=\"796.71542\" xlink:href=\"#md512a09df7\" y=\"224.64\"/>\r\n      </g>\r\n     </g>\r\n     <g id=\"text_30\">\r\n      <!-- 25 -->\r\n      <g transform=\"translate(790.35292 239.238437)scale(0.1 -0.1)\">\r\n       <use xlink:href=\"#DejaVuSans-50\"/>\r\n       <use x=\"63.623047\" xlink:href=\"#DejaVuSans-53\"/>\r\n      </g>\r\n     </g>\r\n    </g>\r\n   </g>\r\n   <g id=\"matplotlib.axis_6\">\r\n    <g id=\"ytick_13\">\r\n     <g id=\"line2d_31\">\r\n      <g>\r\n       <use style=\"stroke:#000000;stroke-width:0.8;\" x=\"598.689706\" xlink:href=\"#medaf3fb515\" y=\"11.082857\"/>\r\n      </g>\r\n     </g>\r\n     <g id=\"text_31\">\r\n      <!-- 0 -->\r\n      <g transform=\"translate(585.327206 14.882076)scale(0.1 -0.1)\">\r\n       <use xlink:href=\"#DejaVuSans-48\"/>\r\n      </g>\r\n     </g>\r\n    </g>\r\n    <g id=\"ytick_14\">\r\n     <g id=\"line2d_32\">\r\n      <g>\r\n       <use style=\"stroke:#000000;stroke-width:0.8;\" x=\"598.689706\" xlink:href=\"#medaf3fb515\" y=\"49.911429\"/>\r\n      </g>\r\n     </g>\r\n     <g id=\"text_32\">\r\n      <!-- 5 -->\r\n      <g transform=\"translate(585.327206 53.710647)scale(0.1 -0.1)\">\r\n       <use xlink:href=\"#DejaVuSans-53\"/>\r\n      </g>\r\n     </g>\r\n    </g>\r\n    <g id=\"ytick_15\">\r\n     <g id=\"line2d_33\">\r\n      <g>\r\n       <use style=\"stroke:#000000;stroke-width:0.8;\" x=\"598.689706\" xlink:href=\"#medaf3fb515\" y=\"88.74\"/>\r\n      </g>\r\n     </g>\r\n     <g id=\"text_33\">\r\n      <!-- 10 -->\r\n      <g transform=\"translate(578.964706 92.539219)scale(0.1 -0.1)\">\r\n       <use xlink:href=\"#DejaVuSans-49\"/>\r\n       <use x=\"63.623047\" xlink:href=\"#DejaVuSans-48\"/>\r\n      </g>\r\n     </g>\r\n    </g>\r\n    <g id=\"ytick_16\">\r\n     <g id=\"line2d_34\">\r\n      <g>\r\n       <use style=\"stroke:#000000;stroke-width:0.8;\" x=\"598.689706\" xlink:href=\"#medaf3fb515\" y=\"127.568571\"/>\r\n      </g>\r\n     </g>\r\n     <g id=\"text_34\">\r\n      <!-- 15 -->\r\n      <g transform=\"translate(578.964706 131.36779)scale(0.1 -0.1)\">\r\n       <use xlink:href=\"#DejaVuSans-49\"/>\r\n       <use x=\"63.623047\" xlink:href=\"#DejaVuSans-53\"/>\r\n      </g>\r\n     </g>\r\n    </g>\r\n    <g id=\"ytick_17\">\r\n     <g id=\"line2d_35\">\r\n      <g>\r\n       <use style=\"stroke:#000000;stroke-width:0.8;\" x=\"598.689706\" xlink:href=\"#medaf3fb515\" y=\"166.397143\"/>\r\n      </g>\r\n     </g>\r\n     <g id=\"text_35\">\r\n      <!-- 20 -->\r\n      <g transform=\"translate(578.964706 170.196362)scale(0.1 -0.1)\">\r\n       <use xlink:href=\"#DejaVuSans-50\"/>\r\n       <use x=\"63.623047\" xlink:href=\"#DejaVuSans-48\"/>\r\n      </g>\r\n     </g>\r\n    </g>\r\n    <g id=\"ytick_18\">\r\n     <g id=\"line2d_36\">\r\n      <g>\r\n       <use style=\"stroke:#000000;stroke-width:0.8;\" x=\"598.689706\" xlink:href=\"#medaf3fb515\" y=\"205.225714\"/>\r\n      </g>\r\n     </g>\r\n     <g id=\"text_36\">\r\n      <!-- 25 -->\r\n      <g transform=\"translate(578.964706 209.024933)scale(0.1 -0.1)\">\r\n       <use xlink:href=\"#DejaVuSans-50\"/>\r\n       <use x=\"63.623047\" xlink:href=\"#DejaVuSans-53\"/>\r\n      </g>\r\n     </g>\r\n    </g>\r\n   </g>\r\n   <g id=\"patch_13\">\r\n    <path d=\"M 598.689706 224.64 \r\nL 598.689706 7.2 \r\n\" style=\"fill:none;stroke:#000000;stroke-linecap:square;stroke-linejoin:miter;stroke-width:0.8;\"/>\r\n   </g>\r\n   <g id=\"patch_14\">\r\n    <path d=\"M 816.129706 224.64 \r\nL 816.129706 7.2 \r\n\" style=\"fill:none;stroke:#000000;stroke-linecap:square;stroke-linejoin:miter;stroke-width:0.8;\"/>\r\n   </g>\r\n   <g id=\"patch_15\">\r\n    <path d=\"M 598.689706 224.64 \r\nL 816.129706 224.64 \r\n\" style=\"fill:none;stroke:#000000;stroke-linecap:square;stroke-linejoin:miter;stroke-width:0.8;\"/>\r\n   </g>\r\n   <g id=\"patch_16\">\r\n    <path d=\"M 598.689706 7.2 \r\nL 816.129706 7.2 \r\n\" style=\"fill:none;stroke:#000000;stroke-linecap:square;stroke-linejoin:miter;stroke-width:0.8;\"/>\r\n   </g>\r\n  </g>\r\n </g>\r\n <defs>\r\n  <clipPath id=\"p1e71705167\">\r\n   <rect height=\"217.44\" width=\"217.44\" x=\"26.925\" y=\"7.2\"/>\r\n  </clipPath>\r\n  <clipPath id=\"p52095174b9\">\r\n   <rect height=\"217.44\" width=\"217.44\" x=\"312.807353\" y=\"7.2\"/>\r\n  </clipPath>\r\n  <clipPath id=\"pda6511fb61\">\r\n   <rect height=\"217.44\" width=\"217.44\" x=\"598.689706\" y=\"7.2\"/>\r\n  </clipPath>\r\n </defs>\r\n</svg>\r\n",
      "image/png": "[encoded data removed]"
     },
     "metadata": {
      "needs_background": "light"
     }
    }
   ],
   "source": [
    "plt.figure()\n",
    "\n",
    "plt.subplot(1, 3, 1)\n",
    "plt.imshow(X_train[0])\n",
    "\n",
    "plt.subplot(1, 3, 2)\n",
    "plt.imshow(X_train[1])\n",
    "\n",
    "plt.subplot(1, 3, 3)\n",
    "plt.imshow(X_train[2])\n",
    "\n",
    "plt.subplots_adjust(right=2)\n",
    "plt.show()"
   ]
  },
  {
   "cell_type": "code",
   "execution_count": 10,
   "metadata": {},
   "outputs": [],
   "source": [
    "X_train = X_train.reshape((X_train.shape[0], 28*28))\n",
    "X_test = X_test.reshape((X_test.shape[0], 28*28))\n",
    "y_train.resize((y_train.shape[0],1))\n",
    "y_test.resize((y_test.shape[0],1))"
   ]
  },
  {
   "cell_type": "code",
   "execution_count": 11,
   "metadata": {},
   "outputs": [],
   "source": [
    "train_rows = 5000\n",
    "test_rows = 1000\n",
    "X_train = X_train[:train_rows]\n",
    "X_test = X_test[:test_rows]\n",
    "y_train = y_train[:train_rows]\n",
    "y_test = y_test[:test_rows]"
   ]
  },
  {
   "cell_type": "code",
   "execution_count": 12,
   "metadata": {},
   "outputs": [],
   "source": [
    "X_train_1 = []\n",
    "X_test_1 = []\n",
    "y_train_1 = []\n",
    "y_test_1 = []\n",
    "\n",
    "for i in range(train_rows):\n",
    "    if y_train[i][0] == 1:\n",
    "        X_train_1.append(X_train[i])\n",
    "        y_train_1.append([1])\n",
    "    if y_train[i][0] == 8:\n",
    "        X_train_1.append(X_train[i])\n",
    "        y_train_1.append([0])\n",
    "\n",
    "for i in range(test_rows):\n",
    "    if y_test[i][0] == 1:\n",
    "        X_test_1.append(X_test[i])\n",
    "        y_test_1.append([1])\n",
    "    if y_test[i][0] == 8:\n",
    "        X_test_1.append(X_test[i])\n",
    "        y_test_1.append([0])\n",
    "\n",
    "y_train = np.array(y_train_1)\n",
    "y_test = np.array(y_test_1)\n",
    "X_test = np.array(X_test_1)\n",
    "X_train = np.array(X_train_1)"
   ]
  },
  {
   "cell_type": "code",
   "execution_count": 13,
   "metadata": {},
   "outputs": [
    {
     "output_type": "execute_result",
     "data": {
      "text/plain": "(1025, 784)"
     },
     "metadata": {},
     "execution_count": 13
    }
   ],
   "source": [
    "X_train.shape"
   ]
  },
  {
   "cell_type": "code",
   "execution_count": 14,
   "metadata": {},
   "outputs": [
    {
     "output_type": "execute_result",
     "data": {
      "text/plain": "(215, 784)"
     },
     "metadata": {},
     "execution_count": 14
    }
   ],
   "source": [
    "X_test.shape"
   ]
  },
  {
   "cell_type": "code",
   "execution_count": 15,
   "metadata": {},
   "outputs": [
    {
     "output_type": "execute_result",
     "data": {
      "text/plain": "(1025, 1)"
     },
     "metadata": {},
     "execution_count": 15
    }
   ],
   "source": [
    "y_train.shape"
   ]
  },
  {
   "cell_type": "code",
   "execution_count": 16,
   "metadata": {},
   "outputs": [
    {
     "output_type": "execute_result",
     "data": {
      "text/plain": "(215, 1)"
     },
     "metadata": {},
     "execution_count": 16
    }
   ],
   "source": [
    "y_test.shape"
   ]
  },
  {
   "cell_type": "code",
   "execution_count": 17,
   "metadata": {},
   "outputs": [
    {
     "output_type": "execute_result",
     "data": {
      "text/plain": "1    563\n0    462\ndtype: int64"
     },
     "metadata": {},
     "execution_count": 17
    }
   ],
   "source": [
    "pd.Series(y_train.T[0]).value_counts()"
   ]
  },
  {
   "cell_type": "code",
   "execution_count": 18,
   "metadata": {},
   "outputs": [
    {
     "output_type": "execute_result",
     "data": {
      "text/plain": "1    126\n0     89\ndtype: int64"
     },
     "metadata": {},
     "execution_count": 18
    }
   ],
   "source": [
    "pd.Series(y_test.T[0]).value_counts()"
   ]
  },
  {
   "cell_type": "code",
   "execution_count": 19,
   "metadata": {},
   "outputs": [],
   "source": [
    "X_train = X_train / 255\n",
    "X_test = X_test / 255"
   ]
  },
  {
   "cell_type": "markdown",
   "metadata": {},
   "source": [
    "Net "
   ]
  },
  {
   "cell_type": "code",
   "execution_count": 20,
   "metadata": {},
   "outputs": [],
   "source": [
    "net = Net(\n",
    "    layers=(\n",
    "        FullyConnected(\n",
    "            'fc_hidden',\n",
    "            n_inputs=28*28,\n",
    "            n_neurons=64,\n",
    "        ),\n",
    "        BatchNormalization(\n",
    "            'bn_hidden',\n",
    "            64\n",
    "        ),\n",
    "        Sigmoid(\n",
    "            'sigmoid_hidden',\n",
    "            n_inputs=64,\n",
    "        ),\n",
    "        FullyConnected(\n",
    "            'fc_output',\n",
    "            n_inputs=64,\n",
    "            n_neurons=1,\n",
    "        ),\n",
    "        BatchNormalization(\n",
    "            'bn_hidden',\n",
    "            1\n",
    "        ),\n",
    "        Sigmoid(\n",
    "            'sigmoid_output',\n",
    "            n_inputs=1,\n",
    "        )\n",
    "    )\n",
    ")"
   ]
  },
  {
   "cell_type": "markdown",
   "metadata": {},
   "source": [
    "Trainig"
   ]
  },
  {
   "cell_type": "code",
   "execution_count": 21,
   "metadata": {},
   "outputs": [],
   "source": [
    "trainer = Trainer(net=net)"
   ]
  },
  {
   "cell_type": "code",
   "execution_count": 22,
   "metadata": {
    "tags": []
   },
   "outputs": [
    {
     "output_type": "stream",
     "name": "stderr",
     "text": "Epoch 1: 100%|██████████| 41/41 [00:01<00:00, 37.96it/s]\nEpoch 2: 100%|██████████| 41/41 [00:00<00:00, 43.99it/s]\nEpoch 3: 100%|██████████| 41/41 [00:01<00:00, 40.31it/s]\nEpoch 4: 100%|██████████| 41/41 [00:00<00:00, 43.43it/s]\nEpoch 5: 100%|██████████| 41/41 [00:00<00:00, 43.11it/s]\n"
    }
   ],
   "source": [
    "trainer.train(\n",
    "    X_train=X_train,\n",
    "    y_train=y_train,\n",
    "    batch_size=25,\n",
    "    epochs=5,\n",
    "    lr=0.1\n",
    ")"
   ]
  },
  {
   "cell_type": "markdown",
   "metadata": {},
   "source": [
    "Predict"
   ]
  },
  {
   "cell_type": "code",
   "execution_count": 23,
   "metadata": {},
   "outputs": [],
   "source": [
    "y_pred = trainer.predict(\n",
    "    X_test=X_test\n",
    ")\n",
    "y_pred = np.resize(y_pred, (y_pred.shape[2], 1))"
   ]
  },
  {
   "cell_type": "markdown",
   "metadata": {},
   "source": [
    "MSE"
   ]
  },
  {
   "cell_type": "code",
   "execution_count": 24,
   "metadata": {},
   "outputs": [
    {
     "output_type": "execute_result",
     "data": {
      "text/plain": "25.22274068850148"
     },
     "metadata": {},
     "execution_count": 24
    }
   ],
   "source": [
    "np.sum((y_pred-y_test)**2)"
   ]
  },
  {
   "cell_type": "markdown",
   "metadata": {},
   "source": [
    "Accuracy and recall"
   ]
  },
  {
   "cell_type": "code",
   "execution_count": 25,
   "metadata": {},
   "outputs": [],
   "source": [
    "y_pred = np.resize(y_pred, (y_pred.shape[0]))\n",
    "y_pred = np.where(y_pred > 0.5, 1, 0).astype('int') "
   ]
  },
  {
   "cell_type": "code",
   "execution_count": 26,
   "metadata": {},
   "outputs": [],
   "source": [
    "y_test = np.resize(y_test, (y_test.shape[0])).astype('int') "
   ]
  },
  {
   "cell_type": "code",
   "execution_count": 27,
   "metadata": {},
   "outputs": [
    {
     "output_type": "execute_result",
     "data": {
      "text/plain": "0.9302325581395349"
     },
     "metadata": {},
     "execution_count": 27
    }
   ],
   "source": [
    "accuracy_score(y_test, y_pred)"
   ]
  },
  {
   "cell_type": "code",
   "execution_count": 28,
   "metadata": {
    "tags": []
   },
   "outputs": [
    {
     "output_type": "execute_result",
     "data": {
      "text/plain": "0.9285714285714286"
     },
     "metadata": {},
     "execution_count": 28
    }
   ],
   "source": [
    "recall_score(y_test, y_pred)"
   ]
  },
  {
   "cell_type": "markdown",
   "metadata": {},
   "source": [
    "Predicted and test classes"
   ]
  },
  {
   "cell_type": "code",
   "execution_count": 29,
   "metadata": {},
   "outputs": [
    {
     "output_type": "execute_result",
     "data": {
      "text/plain": "array([1, 1, 1, 1, 1, 1, 1, 1, 1, 1, 0, 1, 0, 1, 0, 1, 1, 0, 0, 0, 1, 0,\n       1, 1, 0, 1, 1, 1, 0, 1, 0, 1, 0, 0, 1, 0, 1, 1, 1, 1, 1, 1, 0, 1,\n       0, 0, 1, 0, 1, 0, 0, 1, 0, 1, 0, 1, 1, 0, 1, 1, 0, 0, 1, 1, 1, 1,\n       1, 0, 1, 0, 1, 1, 1, 1, 0, 1, 0, 0, 1, 1, 1, 1, 0, 1, 0, 0, 1, 1,\n       1, 1, 0, 1, 0, 0, 0, 1, 0, 0, 0, 0, 1, 0, 1, 1, 0, 1, 0, 1, 1, 1,\n       1, 0, 1, 1, 1, 1, 1, 0, 0, 0, 0, 1, 1, 0, 0, 0, 0, 0, 0, 0, 0, 0,\n       1, 0, 1, 1, 0, 1, 0, 1, 1, 1, 0, 0, 0, 1, 1, 1, 0, 0, 1, 0, 1, 1,\n       1, 1, 1, 1, 0, 1, 1, 1, 1, 1, 1, 0, 1, 0, 1, 0, 0, 0, 1, 1, 1, 1,\n       1, 1, 1, 0, 0, 0, 1, 1, 0, 0, 0, 0, 0, 0, 1, 0, 1, 1, 0, 0, 1, 1,\n       1, 0, 0, 1, 1, 0, 0, 1, 1, 1, 0, 1, 0, 1, 1, 0, 0])"
     },
     "metadata": {},
     "execution_count": 29
    }
   ],
   "source": [
    "y_pred"
   ]
  },
  {
   "cell_type": "code",
   "execution_count": 30,
   "metadata": {},
   "outputs": [
    {
     "output_type": "execute_result",
     "data": {
      "text/plain": "array([1, 1, 1, 1, 1, 1, 1, 1, 1, 1, 0, 1, 0, 1, 1, 1, 1, 0, 0, 0, 1, 1,\n       1, 1, 0, 1, 1, 1, 0, 1, 0, 1, 0, 0, 1, 1, 1, 1, 1, 1, 1, 1, 0, 1,\n       0, 0, 1, 0, 1, 0, 0, 1, 0, 1, 0, 1, 1, 0, 1, 1, 0, 0, 1, 1, 1, 1,\n       1, 0, 1, 0, 1, 1, 1, 1, 0, 1, 0, 0, 1, 1, 1, 1, 0, 1, 0, 0, 1, 1,\n       1, 1, 0, 1, 0, 0, 0, 1, 0, 0, 0, 0, 1, 0, 1, 1, 0, 1, 0, 1, 1, 0,\n       1, 0, 1, 1, 0, 0, 0, 0, 0, 0, 0, 0, 1, 0, 0, 0, 0, 0, 1, 1, 0, 0,\n       1, 0, 1, 1, 0, 1, 0, 1, 1, 1, 0, 0, 0, 1, 1, 1, 0, 0, 1, 0, 1, 1,\n       1, 1, 1, 1, 0, 1, 1, 1, 1, 0, 1, 0, 1, 0, 1, 0, 0, 0, 1, 1, 1, 1,\n       1, 1, 1, 0, 1, 0, 1, 1, 0, 0, 0, 0, 0, 0, 1, 0, 1, 1, 0, 0, 1, 1,\n       1, 0, 0, 1, 1, 1, 0, 1, 1, 1, 1, 1, 0, 1, 1, 1, 0])"
     },
     "metadata": {},
     "execution_count": 30
    }
   ],
   "source": [
    "y_test"
   ]
  }
 ]
}